{
 "cells": [
  {
   "cell_type": "code",
   "execution_count": 4,
   "id": "447e4f9d-d21c-43f8-8ada-1d010c1ab17f",
   "metadata": {},
   "outputs": [],
   "source": [
    "import pandas as pd\n",
    "import my_file\n",
    "import sqlalchemy\n",
    "import requests\n",
    "import datetime"
   ]
  },
  {
   "cell_type": "code",
   "execution_count": 2,
   "id": "8aebc082-5719-4fa3-9c51-8c8f9ad6e7e3",
   "metadata": {},
   "outputs": [],
   "source": [
    "schema=\"gans\"   # name of the database you want to use here\n",
    "host=\"127.0.0.1\"        # to connect to your local server\n",
    "user=\"root\"\n",
    "password=my_file.mysql_password # your password!!!!\n",
    "port=3306\n",
    "con = f'mysql+pymysql://{user}:{password}@{host}:{port}/{schema}'"
   ]
  },
  {
   "cell_type": "code",
   "execution_count": 3,
   "id": "5a38f703-89df-4eb4-9ef4-012b57cf5df2",
   "metadata": {},
   "outputs": [
    {
     "data": {
      "text/html": [
       "<div>\n",
       "<style scoped>\n",
       "    .dataframe tbody tr th:only-of-type {\n",
       "        vertical-align: middle;\n",
       "    }\n",
       "\n",
       "    .dataframe tbody tr th {\n",
       "        vertical-align: top;\n",
       "    }\n",
       "\n",
       "    .dataframe thead th {\n",
       "        text-align: right;\n",
       "    }\n",
       "</style>\n",
       "<table border=\"1\" class=\"dataframe\">\n",
       "  <thead>\n",
       "    <tr style=\"text-align: right;\">\n",
       "      <th></th>\n",
       "      <th>ICAO</th>\n",
       "      <th>city_id</th>\n",
       "    </tr>\n",
       "  </thead>\n",
       "  <tbody>\n",
       "    <tr>\n",
       "      <th>0</th>\n",
       "      <td>EDDB</td>\n",
       "      <td>1</td>\n",
       "    </tr>\n",
       "    <tr>\n",
       "      <th>1</th>\n",
       "      <td>EGLL</td>\n",
       "      <td>2</td>\n",
       "    </tr>\n",
       "  </tbody>\n",
       "</table>\n",
       "</div>"
      ],
      "text/plain": [
       "   ICAO  city_id\n",
       "0  EDDB        1\n",
       "1  EGLL        2"
      ]
     },
     "execution_count": 3,
     "metadata": {},
     "output_type": "execute_result"
    }
   ],
   "source": [
    "airports_df = pd.read_sql_table('airports',con=con)\n",
    "airports_df"
   ]
  },
  {
   "cell_type": "code",
   "execution_count": 8,
   "id": "dd238233-9146-4d93-bd92-0e9cc9e2fff5",
   "metadata": {},
   "outputs": [
    {
     "data": {
      "text/plain": [
       "'2023-09-07'"
      ]
     },
     "execution_count": 8,
     "metadata": {},
     "output_type": "execute_result"
    }
   ],
   "source": [
    "today = datetime.date.today()\n",
    "tomorrow = today + datetime.timedelta(days=1)\n",
    "tomorrow = tomorrow.strftime('%Y-%m-%d')\n",
    "tomorrow"
   ]
  },
  {
   "cell_type": "code",
   "execution_count": 10,
   "id": "38b359c5-72db-4080-89ba-1327f0ad34d5",
   "metadata": {},
   "outputs": [],
   "source": [
    "time_from = \"00:00\"\n",
    "time_to = \"11:59\""
   ]
  },
  {
   "cell_type": "code",
   "execution_count": 12,
   "id": "7feb358c-4cf4-4660-8cba-0d2716f78f19",
   "metadata": {},
   "outputs": [],
   "source": [
    "flights_dict = {'Arrival_airport':[],\n",
    "                'Departure_airport_icao':[],\n",
    "                'Departure_airport_city':[],\n",
    "                'Departure_terminal':[],\n",
    "                'Arrival_time_local':[]}\n",
    "\n",
    "for index, row in airports_df.iterrows():\n",
    "\n",
    "    url = f\"https://aerodatabox.p.rapidapi.com/flights/airports/icao/{row['ICAO']}/{tomorrow}T{time_from}/{tomorrow}T{time_to}\"\n",
    "\n",
    "    querystring = {\"withLeg\":\"true\",\"direction\":\"Arrival\",\"withCancelled\":\"false\",\"withCodeshared\":\"true\",\"withCargo\":\"false\",\"withPrivate\":\"false\",\"withLocation\":\"false\"}\n",
    "\n",
    "    headers = {\n",
    "\t\"X-RapidAPI-Key\": \"0b7cffd425mshbf932b1b5f7e633p187a96jsna5aedb4ce276\",\n",
    "\t\"X-RapidAPI-Host\": \"aerodatabox.p.rapidapi.com\"\n",
    "    }\n",
    "\n",
    "    response = requests.get(url, headers=headers, params=querystring)\n",
    "    flight_json = response.json()\n",
    "    for flight in flight_json['arrivals']:\n",
    "        flights_dict['Arrival_airport'].append(row['ICAO'])\n",
    "        flights_dict['Departure_airport_icao'].append(flight['departure']['airport']['icao'])\n",
    "        flights_dict['Departure_airport_city'].append(flight['departure']['airport']['name'])\n",
    "        flights_dict['Arrival_time_local'].append(flight['arrival']['scheduledTimeLocal'])\n",
    "        try:\n",
    "            flights_dict['Departure_terminal'].append(flight['departure']['terminal'])\n",
    "        except:\n",
    "            flights_dict['Departure_terminal'].append('unknown')\n",
    "\n",
    "flights_df = pd.DataFrame(flights_dict)\n",
    "# print(response.json())"
   ]
  },
  {
   "cell_type": "code",
   "execution_count": 15,
   "id": "b65aa3e8-755a-4965-95b2-f5158db0f2b3",
   "metadata": {},
   "outputs": [],
   "source": [
    "flights_df['Arrival_time_local'] = flights_df['Arrival_time_local'].str[:-6]"
   ]
  },
  {
   "cell_type": "code",
   "execution_count": 16,
   "id": "053ef787-7643-4a2d-b0a2-f8b7f0d54b9f",
   "metadata": {},
   "outputs": [
    {
     "data": {
      "text/html": [
       "<div>\n",
       "<style scoped>\n",
       "    .dataframe tbody tr th:only-of-type {\n",
       "        vertical-align: middle;\n",
       "    }\n",
       "\n",
       "    .dataframe tbody tr th {\n",
       "        vertical-align: top;\n",
       "    }\n",
       "\n",
       "    .dataframe thead th {\n",
       "        text-align: right;\n",
       "    }\n",
       "</style>\n",
       "<table border=\"1\" class=\"dataframe\">\n",
       "  <thead>\n",
       "    <tr style=\"text-align: right;\">\n",
       "      <th></th>\n",
       "      <th>Arrival_airport</th>\n",
       "      <th>Departure_airport_icao</th>\n",
       "      <th>Departure_airport_city</th>\n",
       "      <th>Departure_terminal</th>\n",
       "      <th>Arrival_time_local</th>\n",
       "    </tr>\n",
       "  </thead>\n",
       "  <tbody>\n",
       "    <tr>\n",
       "      <th>0</th>\n",
       "      <td>EDDB</td>\n",
       "      <td>LTBJ</td>\n",
       "      <td>İzmir</td>\n",
       "      <td>I</td>\n",
       "      <td>2023-09-07 05:45</td>\n",
       "    </tr>\n",
       "    <tr>\n",
       "      <th>1</th>\n",
       "      <td>EDDB</td>\n",
       "      <td>HEMA</td>\n",
       "      <td>Marsa Alam</td>\n",
       "      <td>unknown</td>\n",
       "      <td>2023-09-07 06:20</td>\n",
       "    </tr>\n",
       "    <tr>\n",
       "      <th>2</th>\n",
       "      <td>EDDB</td>\n",
       "      <td>LBWN</td>\n",
       "      <td>Varna</td>\n",
       "      <td>unknown</td>\n",
       "      <td>2023-09-07 06:40</td>\n",
       "    </tr>\n",
       "    <tr>\n",
       "      <th>3</th>\n",
       "      <td>EDDB</td>\n",
       "      <td>KJFK</td>\n",
       "      <td>New York</td>\n",
       "      <td>4</td>\n",
       "      <td>2023-09-07 07:05</td>\n",
       "    </tr>\n",
       "    <tr>\n",
       "      <th>4</th>\n",
       "      <td>EDDB</td>\n",
       "      <td>LFPG</td>\n",
       "      <td>Paris</td>\n",
       "      <td>unknown</td>\n",
       "      <td>2023-09-07 07:55</td>\n",
       "    </tr>\n",
       "    <tr>\n",
       "      <th>...</th>\n",
       "      <td>...</td>\n",
       "      <td>...</td>\n",
       "      <td>...</td>\n",
       "      <td>...</td>\n",
       "      <td>...</td>\n",
       "    </tr>\n",
       "    <tr>\n",
       "      <th>1188</th>\n",
       "      <td>EGLL</td>\n",
       "      <td>CYYC</td>\n",
       "      <td>Calgary</td>\n",
       "      <td>unknown</td>\n",
       "      <td>2023-09-07 11:50</td>\n",
       "    </tr>\n",
       "    <tr>\n",
       "      <th>1189</th>\n",
       "      <td>EGLL</td>\n",
       "      <td>KJFK</td>\n",
       "      <td>New York</td>\n",
       "      <td>4</td>\n",
       "      <td>2023-09-07 11:10</td>\n",
       "    </tr>\n",
       "    <tr>\n",
       "      <th>1190</th>\n",
       "      <td>EGLL</td>\n",
       "      <td>KSFO</td>\n",
       "      <td>San Francisco</td>\n",
       "      <td>ITM</td>\n",
       "      <td>2023-09-07 11:10</td>\n",
       "    </tr>\n",
       "    <tr>\n",
       "      <th>1191</th>\n",
       "      <td>EGLL</td>\n",
       "      <td>KATL</td>\n",
       "      <td>Atlanta</td>\n",
       "      <td>unknown</td>\n",
       "      <td>2023-09-07 11:10</td>\n",
       "    </tr>\n",
       "    <tr>\n",
       "      <th>1192</th>\n",
       "      <td>EGLL</td>\n",
       "      <td>OLBA</td>\n",
       "      <td>Beirut</td>\n",
       "      <td>unknown</td>\n",
       "      <td>2023-09-07 11:15</td>\n",
       "    </tr>\n",
       "  </tbody>\n",
       "</table>\n",
       "<p>1193 rows × 5 columns</p>\n",
       "</div>"
      ],
      "text/plain": [
       "     Arrival_airport Departure_airport_icao Departure_airport_city  \\\n",
       "0               EDDB                   LTBJ                  İzmir   \n",
       "1               EDDB                   HEMA             Marsa Alam   \n",
       "2               EDDB                   LBWN                  Varna   \n",
       "3               EDDB                   KJFK               New York   \n",
       "4               EDDB                   LFPG                  Paris   \n",
       "...              ...                    ...                    ...   \n",
       "1188            EGLL                   CYYC                Calgary   \n",
       "1189            EGLL                   KJFK               New York   \n",
       "1190            EGLL                   KSFO          San Francisco   \n",
       "1191            EGLL                   KATL                Atlanta   \n",
       "1192            EGLL                   OLBA                 Beirut   \n",
       "\n",
       "     Departure_terminal Arrival_time_local  \n",
       "0                     I   2023-09-07 05:45  \n",
       "1               unknown   2023-09-07 06:20  \n",
       "2               unknown   2023-09-07 06:40  \n",
       "3                     4   2023-09-07 07:05  \n",
       "4               unknown   2023-09-07 07:55  \n",
       "...                 ...                ...  \n",
       "1188            unknown   2023-09-07 11:50  \n",
       "1189                  4   2023-09-07 11:10  \n",
       "1190                ITM   2023-09-07 11:10  \n",
       "1191            unknown   2023-09-07 11:10  \n",
       "1192            unknown   2023-09-07 11:15  \n",
       "\n",
       "[1193 rows x 5 columns]"
      ]
     },
     "execution_count": 16,
     "metadata": {},
     "output_type": "execute_result"
    }
   ],
   "source": [
    "flights_df"
   ]
  },
  {
   "cell_type": "code",
   "execution_count": 17,
   "id": "fd74afdf-763e-4ccc-bb15-05dda0c95e84",
   "metadata": {},
   "outputs": [
    {
     "data": {
      "text/plain": [
       "1193"
      ]
     },
     "execution_count": 17,
     "metadata": {},
     "output_type": "execute_result"
    }
   ],
   "source": [
    "flights_df.to_sql('flights',con=con,if_exists='append',index=False)"
   ]
  }
 ],
 "metadata": {
  "kernelspec": {
   "display_name": "Python 3 (ipykernel)",
   "language": "python",
   "name": "python3"
  },
  "language_info": {
   "codemirror_mode": {
    "name": "ipython",
    "version": 3
   },
   "file_extension": ".py",
   "mimetype": "text/x-python",
   "name": "python",
   "nbconvert_exporter": "python",
   "pygments_lexer": "ipython3",
   "version": "3.9.12"
  }
 },
 "nbformat": 4,
 "nbformat_minor": 5
}
