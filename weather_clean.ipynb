{
 "cells": [
  {
   "cell_type": "code",
   "execution_count": 1,
   "id": "38e8ebbd-ce64-4f3d-9807-98d1160008e6",
   "metadata": {},
   "outputs": [],
   "source": [
    "import pandas as pd\n",
    "import my_file\n",
    "import sqlalchemy\n",
    "import requests"
   ]
  },
  {
   "cell_type": "code",
   "execution_count": 2,
   "id": "eed88d24-824d-4126-82cc-3253afa5a4d2",
   "metadata": {},
   "outputs": [],
   "source": [
    "schema=\"gans\"   # name of the database you want to use here\n",
    "host=\"127.0.0.1\"        # to connect to your local server\n",
    "user=\"root\"\n",
    "password=my_file.mysql_password # your password!!!!\n",
    "port=3306\n",
    "con = f'mysql+pymysql://{user}:{password}@{host}:{port}/{schema}'"
   ]
  },
  {
   "cell_type": "code",
   "execution_count": 3,
   "id": "c16dc483-d93d-4d7d-bdde-0a3efe8391a2",
   "metadata": {},
   "outputs": [
    {
     "data": {
      "text/html": [
       "<div>\n",
       "<style scoped>\n",
       "    .dataframe tbody tr th:only-of-type {\n",
       "        vertical-align: middle;\n",
       "    }\n",
       "\n",
       "    .dataframe tbody tr th {\n",
       "        vertical-align: top;\n",
       "    }\n",
       "\n",
       "    .dataframe thead th {\n",
       "        text-align: right;\n",
       "    }\n",
       "</style>\n",
       "<table border=\"1\" class=\"dataframe\">\n",
       "  <thead>\n",
       "    <tr style=\"text-align: right;\">\n",
       "      <th></th>\n",
       "      <th>city_id</th>\n",
       "      <th>City</th>\n",
       "      <th>Country</th>\n",
       "      <th>Population</th>\n",
       "      <th>latitude</th>\n",
       "      <th>longitude</th>\n",
       "    </tr>\n",
       "  </thead>\n",
       "  <tbody>\n",
       "    <tr>\n",
       "      <th>0</th>\n",
       "      <td>1</td>\n",
       "      <td>Berlin</td>\n",
       "      <td>DE</td>\n",
       "      <td>3800000</td>\n",
       "      <td>52.3112</td>\n",
       "      <td>13.2418</td>\n",
       "    </tr>\n",
       "    <tr>\n",
       "      <th>1</th>\n",
       "      <td>2</td>\n",
       "      <td>London</td>\n",
       "      <td>GB</td>\n",
       "      <td>4100000</td>\n",
       "      <td>51.3026</td>\n",
       "      <td>0.7390</td>\n",
       "    </tr>\n",
       "  </tbody>\n",
       "</table>\n",
       "</div>"
      ],
      "text/plain": [
       "   city_id    City Country  Population  latitude  longitude\n",
       "0        1  Berlin      DE     3800000   52.3112    13.2418\n",
       "1        2  London      GB     4100000   51.3026     0.7390"
      ]
     },
     "execution_count": 3,
     "metadata": {},
     "output_type": "execute_result"
    }
   ],
   "source": [
    "cities_df = pd.read_sql_table('cities',con=con)\n",
    "cities_df"
   ]
  },
  {
   "cell_type": "code",
   "execution_count": 4,
   "id": "9c607666-2a65-4b49-81d8-a7f7d6bd59d9",
   "metadata": {},
   "outputs": [],
   "source": [
    "API_key = my_file.weather_api_key"
   ]
  },
  {
   "cell_type": "code",
   "execution_count": 5,
   "id": "d7808321-d91b-41ac-8cdc-7944afb7a04b",
   "metadata": {},
   "outputs": [
    {
     "name": "stdout",
     "output_type": "stream",
     "text": [
      "0\n",
      "Berlin\n",
      "1\n",
      "NEW_ITERATION\n",
      "1\n",
      "London\n",
      "2\n",
      "NEW_ITERATION\n"
     ]
    }
   ],
   "source": [
    "for index, row in cities_df.iterrows():\n",
    "    print(index)\n",
    "    print(row['City'])\n",
    "    print(row['city_id'])\n",
    "    print('NEW_ITERATION')"
   ]
  },
  {
   "cell_type": "code",
   "execution_count": 6,
   "id": "91c3787c-8d06-423d-96a7-034b1e4ac7ed",
   "metadata": {},
   "outputs": [],
   "source": [
    "list_of_jsons = []\n",
    "\n",
    "for index, row in cities_df.iterrows():\n",
    "    \n",
    "    url = (f\"http://api.openweathermap.org/data/2.5/forecast?q={row['City']}&appid={API_key}&units=metric\")\n",
    "\n",
    "    response = requests.get(url)\n",
    "    list_of_jsons.append(response.json())"
   ]
  },
  {
   "cell_type": "code",
   "execution_count": 8,
   "id": "366fd3e2-5316-4e01-9a32-3f967b02654c",
   "metadata": {},
   "outputs": [
    {
     "data": {
      "application/json": {
       "city": {
        "coord": {
         "lat": 52.5244,
         "lon": 13.4105
        },
        "country": "DE",
        "id": 2950159,
        "name": "Berlin",
        "population": 1000000,
        "sunrise": 1693974297,
        "sunset": 1694022313,
        "timezone": 7200
       },
       "cnt": 40,
       "cod": "200",
       "list": [
        {
         "clouds": {
          "all": 0
         },
         "dt": 1694012400,
         "dt_txt": "2023-09-06 15:00:00",
         "main": {
          "feels_like": 28.86,
          "grnd_level": 1017,
          "humidity": 39,
          "pressure": 1011,
          "sea_level": 1011,
          "temp": 29.34,
          "temp_kf": 0,
          "temp_max": 29.34,
          "temp_min": 29.34
         },
         "pop": 0,
         "sys": {
          "pod": "d"
         },
         "visibility": 10000,
         "weather": [
          {
           "description": "clear sky",
           "icon": "01d",
           "id": 800,
           "main": "Clear"
          }
         ],
         "wind": {
          "deg": 95,
          "gust": 2.94,
          "speed": 2.87
         }
        },
        {
         "clouds": {
          "all": 2
         },
         "dt": 1694023200,
         "dt_txt": "2023-09-06 18:00:00",
         "main": {
          "feels_like": 27.51,
          "grnd_level": 1017,
          "humidity": 41,
          "pressure": 1015,
          "sea_level": 1015,
          "temp": 27.74,
          "temp_kf": 3.19,
          "temp_max": 27.74,
          "temp_min": 24.55
         },
         "pop": 0,
         "sys": {
          "pod": "n"
         },
         "visibility": 10000,
         "weather": [
          {
           "description": "clear sky",
           "icon": "01n",
           "id": 800,
           "main": "Clear"
          }
         ],
         "wind": {
          "deg": 86,
          "gust": 5.18,
          "speed": 2.68
         }
        },
        {
         "clouds": {
          "all": 2
         },
         "dt": 1694034000,
         "dt_txt": "2023-09-06 21:00:00",
         "main": {
          "feels_like": 24.17,
          "grnd_level": 1019,
          "humidity": 51,
          "pressure": 1020,
          "sea_level": 1020,
          "temp": 24.35,
          "temp_kf": 2.5,
          "temp_max": 24.35,
          "temp_min": 21.85
         },
         "pop": 0,
         "sys": {
          "pod": "n"
         },
         "visibility": 10000,
         "weather": [
          {
           "description": "clear sky",
           "icon": "01n",
           "id": 800,
           "main": "Clear"
          }
         ],
         "wind": {
          "deg": 95,
          "gust": 5.69,
          "speed": 2.71
         }
        },
        {
         "clouds": {
          "all": 3
         },
         "dt": 1694044800,
         "dt_txt": "2023-09-07 00:00:00",
         "main": {
          "feels_like": 19.56,
          "grnd_level": 1019,
          "humidity": 59,
          "pressure": 1024,
          "sea_level": 1024,
          "temp": 19.97,
          "temp_kf": 0,
          "temp_max": 19.97,
          "temp_min": 19.97
         },
         "pop": 0,
         "sys": {
          "pod": "n"
         },
         "visibility": 10000,
         "weather": [
          {
           "description": "clear sky",
           "icon": "01n",
           "id": 800,
           "main": "Clear"
          }
         ],
         "wind": {
          "deg": 102,
          "gust": 4.9,
          "speed": 2.34
         }
        },
        {
         "clouds": {
          "all": 6
         },
         "dt": 1694055600,
         "dt_txt": "2023-09-07 03:00:00",
         "main": {
          "feels_like": 17.91,
          "grnd_level": 1019,
          "humidity": 62,
          "pressure": 1024,
          "sea_level": 1024,
          "temp": 18.4,
          "temp_kf": 0,
          "temp_max": 18.4,
          "temp_min": 18.4
         },
         "pop": 0,
         "sys": {
          "pod": "n"
         },
         "visibility": 10000,
         "weather": [
          {
           "description": "clear sky",
           "icon": "01n",
           "id": 800,
           "main": "Clear"
          }
         ],
         "wind": {
          "deg": 95,
          "gust": 5.34,
          "speed": 2.51
         }
        },
        {
         "clouds": {
          "all": 6
         },
         "dt": 1694066400,
         "dt_txt": "2023-09-07 06:00:00",
         "main": {
          "feels_like": 18.58,
          "grnd_level": 1019,
          "humidity": 58,
          "pressure": 1024,
          "sea_level": 1024,
          "temp": 19.1,
          "temp_kf": 0,
          "temp_max": 19.1,
          "temp_min": 19.1
         },
         "pop": 0,
         "sys": {
          "pod": "d"
         },
         "visibility": 10000,
         "weather": [
          {
           "description": "clear sky",
           "icon": "01d",
           "id": 800,
           "main": "Clear"
          }
         ],
         "wind": {
          "deg": 100,
          "gust": 6.63,
          "speed": 2.89
         }
        },
        {
         "clouds": {
          "all": 8
         },
         "dt": 1694077200,
         "dt_txt": "2023-09-07 09:00:00",
         "main": {
          "feels_like": 24.83,
          "grnd_level": 1019,
          "humidity": 36,
          "pressure": 1024,
          "sea_level": 1024,
          "temp": 25.3,
          "temp_kf": 0,
          "temp_max": 25.3,
          "temp_min": 25.3
         },
         "pop": 0,
         "sys": {
          "pod": "d"
         },
         "visibility": 10000,
         "weather": [
          {
           "description": "clear sky",
           "icon": "01d",
           "id": 800,
           "main": "Clear"
          }
         ],
         "wind": {
          "deg": 104,
          "gust": 5.83,
          "speed": 3.82
         }
        },
        {
         "clouds": {
          "all": 9
         },
         "dt": 1694088000,
         "dt_txt": "2023-09-07 12:00:00",
         "main": {
          "feels_like": 27.72,
          "grnd_level": 1018,
          "humidity": 27,
          "pressure": 1023,
          "sea_level": 1023,
          "temp": 29,
          "temp_kf": 0,
          "temp_max": 29,
          "temp_min": 29
         },
         "pop": 0,
         "sys": {
          "pod": "d"
         },
         "visibility": 10000,
         "weather": [
          {
           "description": "clear sky",
           "icon": "01d",
           "id": 800,
           "main": "Clear"
          }
         ],
         "wind": {
          "deg": 107,
          "gust": 5.74,
          "speed": 4.53
         }
        },
        {
         "clouds": {
          "all": 46
         },
         "dt": 1694098800,
         "dt_txt": "2023-09-07 15:00:00",
         "main": {
          "feels_like": 27.74,
          "grnd_level": 1017,
          "humidity": 27,
          "pressure": 1022,
          "sea_level": 1022,
          "temp": 29.03,
          "temp_kf": 0,
          "temp_max": 29.03,
          "temp_min": 29.03
         },
         "pop": 0,
         "sys": {
          "pod": "d"
         },
         "visibility": 10000,
         "weather": [
          {
           "description": "scattered clouds",
           "icon": "03d",
           "id": 802,
           "main": "Clouds"
          }
         ],
         "wind": {
          "deg": 107,
          "gust": 5.81,
          "speed": 4.58
         }
        },
        {
         "clouds": {
          "all": 61
         },
         "dt": 1694109600,
         "dt_txt": "2023-09-07 18:00:00",
         "main": {
          "feels_like": 23.63,
          "grnd_level": 1017,
          "humidity": 41,
          "pressure": 1023,
          "sea_level": 1023,
          "temp": 24.09,
          "temp_kf": 0,
          "temp_max": 24.09,
          "temp_min": 24.09
         },
         "pop": 0,
         "sys": {
          "pod": "n"
         },
         "visibility": 10000,
         "weather": [
          {
           "description": "broken clouds",
           "icon": "04n",
           "id": 803,
           "main": "Clouds"
          }
         ],
         "wind": {
          "deg": 101,
          "gust": 7.71,
          "speed": 3.33
         }
        },
        {
         "clouds": {
          "all": 49
         },
         "dt": 1694120400,
         "dt_txt": "2023-09-07 21:00:00",
         "main": {
          "feels_like": 20.83,
          "grnd_level": 1018,
          "humidity": 49,
          "pressure": 1023,
          "sea_level": 1023,
          "temp": 21.36,
          "temp_kf": 0,
          "temp_max": 21.36,
          "temp_min": 21.36
         },
         "pop": 0,
         "sys": {
          "pod": "n"
         },
         "visibility": 10000,
         "weather": [
          {
           "description": "scattered clouds",
           "icon": "03n",
           "id": 802,
           "main": "Clouds"
          }
         ],
         "wind": {
          "deg": 107,
          "gust": 7.86,
          "speed": 2.98
         }
        },
        {
         "clouds": {
          "all": 71
         },
         "dt": 1694131200,
         "dt_txt": "2023-09-08 00:00:00",
         "main": {
          "feels_like": 19.1,
          "grnd_level": 1018,
          "humidity": 55,
          "pressure": 1023,
          "sea_level": 1023,
          "temp": 19.64,
          "temp_kf": 0,
          "temp_max": 19.64,
          "temp_min": 19.64
         },
         "pop": 0,
         "sys": {
          "pod": "n"
         },
         "visibility": 10000,
         "weather": [
          {
           "description": "broken clouds",
           "icon": "04n",
           "id": 803,
           "main": "Clouds"
          }
         ],
         "wind": {
          "deg": 103,
          "gust": 7.23,
          "speed": 2.85
         }
        },
        {
         "clouds": {
          "all": 30
         },
         "dt": 1694142000,
         "dt_txt": "2023-09-08 03:00:00",
         "main": {
          "feels_like": 17.75,
          "grnd_level": 1017,
          "humidity": 60,
          "pressure": 1022,
          "sea_level": 1022,
          "temp": 18.3,
          "temp_kf": 0,
          "temp_max": 18.3,
          "temp_min": 18.3
         },
         "pop": 0,
         "sys": {
          "pod": "n"
         },
         "visibility": 10000,
         "weather": [
          {
           "description": "scattered clouds",
           "icon": "03n",
           "id": 802,
           "main": "Clouds"
          }
         ],
         "wind": {
          "deg": 109,
          "gust": 6.98,
          "speed": 2.83
         }
        },
        {
         "clouds": {
          "all": 24
         },
         "dt": 1694152800,
         "dt_txt": "2023-09-08 06:00:00",
         "main": {
          "feels_like": 18.54,
          "grnd_level": 1017,
          "humidity": 58,
          "pressure": 1022,
          "sea_level": 1022,
          "temp": 19.06,
          "temp_kf": 0,
          "temp_max": 19.06,
          "temp_min": 19.06
         },
         "pop": 0,
         "sys": {
          "pod": "d"
         },
         "visibility": 10000,
         "weather": [
          {
           "description": "few clouds",
           "icon": "02d",
           "id": 801,
           "main": "Clouds"
          }
         ],
         "wind": {
          "deg": 118,
          "gust": 8.52,
          "speed": 3.3
         }
        },
        {
         "clouds": {
          "all": 21
         },
         "dt": 1694163600,
         "dt_txt": "2023-09-08 09:00:00",
         "main": {
          "feels_like": 25.46,
          "grnd_level": 1017,
          "humidity": 38,
          "pressure": 1022,
          "sea_level": 1022,
          "temp": 25.83,
          "temp_kf": 0,
          "temp_max": 25.83,
          "temp_min": 25.83
         },
         "pop": 0,
         "sys": {
          "pod": "d"
         },
         "visibility": 10000,
         "weather": [
          {
           "description": "few clouds",
           "icon": "02d",
           "id": 801,
           "main": "Clouds"
          }
         ],
         "wind": {
          "deg": 129,
          "gust": 6.95,
          "speed": 4.28
         }
        },
        {
         "clouds": {
          "all": 17
         },
         "dt": 1694174400,
         "dt_txt": "2023-09-08 12:00:00",
         "main": {
          "feels_like": 28.2,
          "grnd_level": 1016,
          "humidity": 27,
          "pressure": 1021,
          "sea_level": 1021,
          "temp": 29.59,
          "temp_kf": 0,
          "temp_max": 29.59,
          "temp_min": 29.59
         },
         "pop": 0,
         "sys": {
          "pod": "d"
         },
         "visibility": 10000,
         "weather": [
          {
           "description": "few clouds",
           "icon": "02d",
           "id": 801,
           "main": "Clouds"
          }
         ],
         "wind": {
          "deg": 124,
          "gust": 5.03,
          "speed": 3.99
         }
        },
        {
         "clouds": {
          "all": 15
         },
         "dt": 1694185200,
         "dt_txt": "2023-09-08 15:00:00",
         "main": {
          "feels_like": 28.46,
          "grnd_level": 1015,
          "humidity": 25,
          "pressure": 1019,
          "sea_level": 1019,
          "temp": 30.02,
          "temp_kf": 0,
          "temp_max": 30.02,
          "temp_min": 30.02
         },
         "pop": 0,
         "sys": {
          "pod": "d"
         },
         "visibility": 10000,
         "weather": [
          {
           "description": "few clouds",
           "icon": "02d",
           "id": 801,
           "main": "Clouds"
          }
         ],
         "wind": {
          "deg": 125,
          "gust": 4.67,
          "speed": 3.86
         }
        },
        {
         "clouds": {
          "all": 31
         },
         "dt": 1694196000,
         "dt_txt": "2023-09-08 18:00:00",
         "main": {
          "feels_like": 24.44,
          "grnd_level": 1015,
          "humidity": 39,
          "pressure": 1020,
          "sea_level": 1020,
          "temp": 24.88,
          "temp_kf": 0,
          "temp_max": 24.88,
          "temp_min": 24.88
         },
         "pop": 0,
         "sys": {
          "pod": "n"
         },
         "visibility": 10000,
         "weather": [
          {
           "description": "scattered clouds",
           "icon": "03n",
           "id": 802,
           "main": "Clouds"
          }
         ],
         "wind": {
          "deg": 115,
          "gust": 7.16,
          "speed": 3.15
         }
        },
        {
         "clouds": {
          "all": 8
         },
         "dt": 1694206800,
         "dt_txt": "2023-09-08 21:00:00",
         "main": {
          "feels_like": 21.43,
          "grnd_level": 1015,
          "humidity": 48,
          "pressure": 1020,
          "sea_level": 1020,
          "temp": 21.93,
          "temp_kf": 0,
          "temp_max": 21.93,
          "temp_min": 21.93
         },
         "pop": 0,
         "sys": {
          "pod": "n"
         },
         "visibility": 10000,
         "weather": [
          {
           "description": "clear sky",
           "icon": "01n",
           "id": 800,
           "main": "Clear"
          }
         ],
         "wind": {
          "deg": 127,
          "gust": 7.69,
          "speed": 2.96
         }
        },
        {
         "clouds": {
          "all": 7
         },
         "dt": 1694217600,
         "dt_txt": "2023-09-09 00:00:00",
         "main": {
          "feels_like": 19.63,
          "grnd_level": 1015,
          "humidity": 55,
          "pressure": 1020,
          "sea_level": 1020,
          "temp": 20.13,
          "temp_kf": 0,
          "temp_max": 20.13,
          "temp_min": 20.13
         },
         "pop": 0,
         "sys": {
          "pod": "n"
         },
         "visibility": 10000,
         "weather": [
          {
           "description": "clear sky",
           "icon": "01n",
           "id": 800,
           "main": "Clear"
          }
         ],
         "wind": {
          "deg": 125,
          "gust": 5.26,
          "speed": 2.49
         }
        },
        {
         "clouds": {
          "all": 6
         },
         "dt": 1694228400,
         "dt_txt": "2023-09-09 03:00:00",
         "main": {
          "feels_like": 18.07,
          "grnd_level": 1014,
          "humidity": 59,
          "pressure": 1019,
          "sea_level": 1019,
          "temp": 18.61,
          "temp_kf": 0,
          "temp_max": 18.61,
          "temp_min": 18.61
         },
         "pop": 0,
         "sys": {
          "pod": "n"
         },
         "visibility": 10000,
         "weather": [
          {
           "description": "clear sky",
           "icon": "01n",
           "id": 800,
           "main": "Clear"
          }
         ],
         "wind": {
          "deg": 130,
          "gust": 4.63,
          "speed": 2.41
         }
        },
        {
         "clouds": {
          "all": 7
         },
         "dt": 1694239200,
         "dt_txt": "2023-09-09 06:00:00",
         "main": {
          "feels_like": 18.98,
          "grnd_level": 1014,
          "humidity": 57,
          "pressure": 1019,
          "sea_level": 1019,
          "temp": 19.49,
          "temp_kf": 0,
          "temp_max": 19.49,
          "temp_min": 19.49
         },
         "pop": 0,
         "sys": {
          "pod": "d"
         },
         "visibility": 10000,
         "weather": [
          {
           "description": "clear sky",
           "icon": "01d",
           "id": 800,
           "main": "Clear"
          }
         ],
         "wind": {
          "deg": 133,
          "gust": 3.94,
          "speed": 2.17
         }
        },
        {
         "clouds": {
          "all": 8
         },
         "dt": 1694250000,
         "dt_txt": "2023-09-09 09:00:00",
         "main": {
          "feels_like": 26.16,
          "grnd_level": 1015,
          "humidity": 39,
          "pressure": 1020,
          "sea_level": 1020,
          "temp": 26.16,
          "temp_kf": 0,
          "temp_max": 26.16,
          "temp_min": 26.16
         },
         "pop": 0,
         "sys": {
          "pod": "d"
         },
         "visibility": 10000,
         "weather": [
          {
           "description": "clear sky",
           "icon": "01d",
           "id": 800,
           "main": "Clear"
          }
         ],
         "wind": {
          "deg": 153,
          "gust": 3.73,
          "speed": 2.56
         }
        },
        {
         "clouds": {
          "all": 7
         },
         "dt": 1694260800,
         "dt_txt": "2023-09-09 12:00:00",
         "main": {
          "feels_like": 28.9,
          "grnd_level": 1013,
          "humidity": 27,
          "pressure": 1018,
          "sea_level": 1018,
          "temp": 30.39,
          "temp_kf": 0,
          "temp_max": 30.39,
          "temp_min": 30.39
         },
         "pop": 0,
         "sys": {
          "pod": "d"
         },
         "visibility": 10000,
         "weather": [
          {
           "description": "clear sky",
           "icon": "01d",
           "id": 800,
           "main": "Clear"
          }
         ],
         "wind": {
          "deg": 166,
          "gust": 3.75,
          "speed": 2.89
         }
        },
        {
         "clouds": {
          "all": 5
         },
         "dt": 1694271600,
         "dt_txt": "2023-09-09 15:00:00",
         "main": {
          "feels_like": 29.44,
          "grnd_level": 1013,
          "humidity": 24,
          "pressure": 1018,
          "sea_level": 1018,
          "temp": 31.18,
          "temp_kf": 0,
          "temp_max": 31.18,
          "temp_min": 31.18
         },
         "pop": 0,
         "sys": {
          "pod": "d"
         },
         "visibility": 10000,
         "weather": [
          {
           "description": "clear sky",
           "icon": "01d",
           "id": 800,
           "main": "Clear"
          }
         ],
         "wind": {
          "deg": 176,
          "gust": 3.27,
          "speed": 2.54
         }
        },
        {
         "clouds": {
          "all": 14
         },
         "dt": 1694282400,
         "dt_txt": "2023-09-09 18:00:00",
         "main": {
          "feels_like": 25.42,
          "grnd_level": 1013,
          "humidity": 35,
          "pressure": 1018,
          "sea_level": 1018,
          "temp": 25.86,
          "temp_kf": 0,
          "temp_max": 25.86,
          "temp_min": 25.86
         },
         "pop": 0,
         "sys": {
          "pod": "n"
         },
         "visibility": 10000,
         "weather": [
          {
           "description": "few clouds",
           "icon": "02n",
           "id": 801,
           "main": "Clouds"
          }
         ],
         "wind": {
          "deg": 198,
          "gust": 1.38,
          "speed": 1.29
         }
        },
        {
         "clouds": {
          "all": 19
         },
         "dt": 1694293200,
         "dt_txt": "2023-09-09 21:00:00",
         "main": {
          "feels_like": 22.69,
          "grnd_level": 1014,
          "humidity": 40,
          "pressure": 1019,
          "sea_level": 1019,
          "temp": 23.26,
          "temp_kf": 0,
          "temp_max": 23.26,
          "temp_min": 23.26
         },
         "pop": 0,
         "sys": {
          "pod": "n"
         },
         "visibility": 10000,
         "weather": [
          {
           "description": "few clouds",
           "icon": "02n",
           "id": 801,
           "main": "Clouds"
          }
         ],
         "wind": {
          "deg": 169,
          "gust": 1.54,
          "speed": 1.48
         }
        },
        {
         "clouds": {
          "all": 21
         },
         "dt": 1694304000,
         "dt_txt": "2023-09-10 00:00:00",
         "main": {
          "feels_like": 20.65,
          "grnd_level": 1013,
          "humidity": 46,
          "pressure": 1018,
          "sea_level": 1018,
          "temp": 21.27,
          "temp_kf": 0,
          "temp_max": 21.27,
          "temp_min": 21.27
         },
         "pop": 0,
         "sys": {
          "pod": "n"
         },
         "visibility": 10000,
         "weather": [
          {
           "description": "few clouds",
           "icon": "02n",
           "id": 801,
           "main": "Clouds"
          }
         ],
         "wind": {
          "deg": 179,
          "gust": 1.8,
          "speed": 1.61
         }
        },
        {
         "clouds": {
          "all": 26
         },
         "dt": 1694314800,
         "dt_txt": "2023-09-10 03:00:00",
         "main": {
          "feels_like": 19.21,
          "grnd_level": 1013,
          "humidity": 51,
          "pressure": 1018,
          "sea_level": 1018,
          "temp": 19.84,
          "temp_kf": 0,
          "temp_max": 19.84,
          "temp_min": 19.84
         },
         "pop": 0,
         "sys": {
          "pod": "n"
         },
         "visibility": 10000,
         "weather": [
          {
           "description": "scattered clouds",
           "icon": "03n",
           "id": 802,
           "main": "Clouds"
          }
         ],
         "wind": {
          "deg": 204,
          "gust": 1.06,
          "speed": 1.07
         }
        },
        {
         "clouds": {
          "all": 17
         },
         "dt": 1694325600,
         "dt_txt": "2023-09-10 06:00:00",
         "main": {
          "feels_like": 20.24,
          "grnd_level": 1014,
          "humidity": 50,
          "pressure": 1019,
          "sea_level": 1019,
          "temp": 20.8,
          "temp_kf": 0,
          "temp_max": 20.8,
          "temp_min": 20.8
         },
         "pop": 0,
         "sys": {
          "pod": "d"
         },
         "visibility": 10000,
         "weather": [
          {
           "description": "few clouds",
           "icon": "02d",
           "id": 801,
           "main": "Clouds"
          }
         ],
         "wind": {
          "deg": 218,
          "gust": 0.67,
          "speed": 0.51
         }
        },
        {
         "clouds": {
          "all": 6
         },
         "dt": 1694336400,
         "dt_txt": "2023-09-10 09:00:00",
         "main": {
          "feels_like": 26.51,
          "grnd_level": 1014,
          "humidity": 34,
          "pressure": 1019,
          "sea_level": 1019,
          "temp": 26.88,
          "temp_kf": 0,
          "temp_max": 26.88,
          "temp_min": 26.88
         },
         "pop": 0,
         "sys": {
          "pod": "d"
         },
         "visibility": 10000,
         "weather": [
          {
           "description": "clear sky",
           "icon": "01d",
           "id": 800,
           "main": "Clear"
          }
         ],
         "wind": {
          "deg": 239,
          "gust": 0.45,
          "speed": 0.47
         }
        },
        {
         "clouds": {
          "all": 6
         },
         "dt": 1694347200,
         "dt_txt": "2023-09-10 12:00:00",
         "main": {
          "feels_like": 29.21,
          "grnd_level": 1013,
          "humidity": 26,
          "pressure": 1018,
          "sea_level": 1018,
          "temp": 30.79,
          "temp_kf": 0,
          "temp_max": 30.79,
          "temp_min": 30.79
         },
         "pop": 0,
         "sys": {
          "pod": "d"
         },
         "visibility": 10000,
         "weather": [
          {
           "description": "clear sky",
           "icon": "01d",
           "id": 800,
           "main": "Clear"
          }
         ],
         "wind": {
          "deg": 251,
          "gust": 0.74,
          "speed": 0.67
         }
        },
        {
         "clouds": {
          "all": 8
         },
         "dt": 1694358000,
         "dt_txt": "2023-09-10 15:00:00",
         "main": {
          "feels_like": 29.1,
          "grnd_level": 1012,
          "humidity": 24,
          "pressure": 1017,
          "sea_level": 1017,
          "temp": 30.81,
          "temp_kf": 0,
          "temp_max": 30.81,
          "temp_min": 30.81
         },
         "pop": 0,
         "sys": {
          "pod": "d"
         },
         "visibility": 10000,
         "weather": [
          {
           "description": "clear sky",
           "icon": "01d",
           "id": 800,
           "main": "Clear"
          }
         ],
         "wind": {
          "deg": 329,
          "gust": 0.5,
          "speed": 0.51
         }
        },
        {
         "clouds": {
          "all": 9
         },
         "dt": 1694368800,
         "dt_txt": "2023-09-10 18:00:00",
         "main": {
          "feels_like": 26.09,
          "grnd_level": 1012,
          "humidity": 34,
          "pressure": 1017,
          "sea_level": 1017,
          "temp": 26.09,
          "temp_kf": 0,
          "temp_max": 26.09,
          "temp_min": 26.09
         },
         "pop": 0,
         "sys": {
          "pod": "n"
         },
         "visibility": 10000,
         "weather": [
          {
           "description": "clear sky",
           "icon": "01n",
           "id": 800,
           "main": "Clear"
          }
         ],
         "wind": {
          "deg": 12,
          "gust": 0.97,
          "speed": 0.92
         }
        },
        {
         "clouds": {
          "all": 26
         },
         "dt": 1694379600,
         "dt_txt": "2023-09-10 21:00:00",
         "main": {
          "feels_like": 23.09,
          "grnd_level": 1012,
          "humidity": 41,
          "pressure": 1017,
          "sea_level": 1017,
          "temp": 23.6,
          "temp_kf": 0,
          "temp_max": 23.6,
          "temp_min": 23.6
         },
         "pop": 0,
         "sys": {
          "pod": "n"
         },
         "visibility": 10000,
         "weather": [
          {
           "description": "scattered clouds",
           "icon": "03n",
           "id": 802,
           "main": "Clouds"
          }
         ],
         "wind": {
          "deg": 67,
          "gust": 1.14,
          "speed": 1.1
         }
        },
        {
         "clouds": {
          "all": 43
         },
         "dt": 1694390400,
         "dt_txt": "2023-09-11 00:00:00",
         "main": {
          "feels_like": 21.29,
          "grnd_level": 1011,
          "humidity": 45,
          "pressure": 1016,
          "sea_level": 1016,
          "temp": 21.87,
          "temp_kf": 0,
          "temp_max": 21.87,
          "temp_min": 21.87
         },
         "pop": 0,
         "sys": {
          "pod": "n"
         },
         "visibility": 10000,
         "weather": [
          {
           "description": "scattered clouds",
           "icon": "03n",
           "id": 802,
           "main": "Clouds"
          }
         ],
         "wind": {
          "deg": 143,
          "gust": 0.68,
          "speed": 0.48
         }
        },
        {
         "clouds": {
          "all": 52
         },
         "dt": 1694401200,
         "dt_txt": "2023-09-11 03:00:00",
         "main": {
          "feels_like": 19.8,
          "grnd_level": 1011,
          "humidity": 48,
          "pressure": 1016,
          "sea_level": 1016,
          "temp": 20.45,
          "temp_kf": 0,
          "temp_max": 20.45,
          "temp_min": 20.45
         },
         "pop": 0,
         "sys": {
          "pod": "n"
         },
         "visibility": 10000,
         "weather": [
          {
           "description": "broken clouds",
           "icon": "04n",
           "id": 803,
           "main": "Clouds"
          }
         ],
         "wind": {
          "deg": 193,
          "gust": 1.25,
          "speed": 1.22
         }
        },
        {
         "clouds": {
          "all": 68
         },
         "dt": 1694412000,
         "dt_txt": "2023-09-11 06:00:00",
         "main": {
          "feels_like": 20.73,
          "grnd_level": 1011,
          "humidity": 49,
          "pressure": 1016,
          "sea_level": 1016,
          "temp": 21.27,
          "temp_kf": 0,
          "temp_max": 21.27,
          "temp_min": 21.27
         },
         "pop": 0,
         "sys": {
          "pod": "d"
         },
         "visibility": 10000,
         "weather": [
          {
           "description": "broken clouds",
           "icon": "04d",
           "id": 803,
           "main": "Clouds"
          }
         ],
         "wind": {
          "deg": 208,
          "gust": 1.4,
          "speed": 1.09
         }
        },
        {
         "clouds": {
          "all": 66
         },
         "dt": 1694422800,
         "dt_txt": "2023-09-11 09:00:00",
         "main": {
          "feels_like": 26.59,
          "grnd_level": 1011,
          "humidity": 36,
          "pressure": 1016,
          "sea_level": 1016,
          "temp": 26.88,
          "temp_kf": 0,
          "temp_max": 26.88,
          "temp_min": 26.88
         },
         "pop": 0,
         "sys": {
          "pod": "d"
         },
         "visibility": 10000,
         "weather": [
          {
           "description": "broken clouds",
           "icon": "04d",
           "id": 803,
           "main": "Clouds"
          }
         ],
         "wind": {
          "deg": 245,
          "gust": 2.22,
          "speed": 1.73
         }
        },
        {
         "clouds": {
          "all": 83
         },
         "dt": 1694433600,
         "dt_txt": "2023-09-11 12:00:00",
         "main": {
          "feels_like": 28.27,
          "grnd_level": 1010,
          "humidity": 32,
          "pressure": 1015,
          "sea_level": 1015,
          "temp": 29.32,
          "temp_kf": 0,
          "temp_max": 29.32,
          "temp_min": 29.32
         },
         "pop": 0,
         "sys": {
          "pod": "d"
         },
         "visibility": 10000,
         "weather": [
          {
           "description": "broken clouds",
           "icon": "04d",
           "id": 803,
           "main": "Clouds"
          }
         ],
         "wind": {
          "deg": 292,
          "gust": 2.35,
          "speed": 1.89
         }
        }
       ],
       "message": 0
      },
      "text/plain": [
       "<IPython.core.display.JSON object>"
      ]
     },
     "execution_count": 8,
     "metadata": {
      "application/json": {
       "expanded": false,
       "root": "root"
      }
     },
     "output_type": "execute_result"
    }
   ],
   "source": [
    "from IPython.display import JSON\n",
    "JSON(list_of_jsons[0])"
   ]
  },
  {
   "cell_type": "code",
   "execution_count": 10,
   "id": "d35e6082-ea94-40ef-a6bf-e3e9d78ef422",
   "metadata": {},
   "outputs": [
    {
     "data": {
      "text/html": [
       "<div>\n",
       "<style scoped>\n",
       "    .dataframe tbody tr th:only-of-type {\n",
       "        vertical-align: middle;\n",
       "    }\n",
       "\n",
       "    .dataframe tbody tr th {\n",
       "        vertical-align: top;\n",
       "    }\n",
       "\n",
       "    .dataframe thead th {\n",
       "        text-align: right;\n",
       "    }\n",
       "</style>\n",
       "<table border=\"1\" class=\"dataframe\">\n",
       "  <thead>\n",
       "    <tr style=\"text-align: right;\">\n",
       "      <th></th>\n",
       "      <th>city_id</th>\n",
       "      <th>forecast_time</th>\n",
       "      <th>temperature</th>\n",
       "      <th>wind_speed</th>\n",
       "      <th>humidity</th>\n",
       "    </tr>\n",
       "  </thead>\n",
       "  <tbody>\n",
       "    <tr>\n",
       "      <th>0</th>\n",
       "      <td>1</td>\n",
       "      <td>2023-09-06 15:00:00</td>\n",
       "      <td>29.34</td>\n",
       "      <td>2.87</td>\n",
       "      <td>39</td>\n",
       "    </tr>\n",
       "    <tr>\n",
       "      <th>1</th>\n",
       "      <td>1</td>\n",
       "      <td>2023-09-06 18:00:00</td>\n",
       "      <td>27.74</td>\n",
       "      <td>2.68</td>\n",
       "      <td>41</td>\n",
       "    </tr>\n",
       "    <tr>\n",
       "      <th>2</th>\n",
       "      <td>1</td>\n",
       "      <td>2023-09-06 21:00:00</td>\n",
       "      <td>24.35</td>\n",
       "      <td>2.71</td>\n",
       "      <td>51</td>\n",
       "    </tr>\n",
       "    <tr>\n",
       "      <th>3</th>\n",
       "      <td>1</td>\n",
       "      <td>2023-09-07 00:00:00</td>\n",
       "      <td>19.97</td>\n",
       "      <td>2.34</td>\n",
       "      <td>59</td>\n",
       "    </tr>\n",
       "    <tr>\n",
       "      <th>4</th>\n",
       "      <td>1</td>\n",
       "      <td>2023-09-07 03:00:00</td>\n",
       "      <td>18.40</td>\n",
       "      <td>2.51</td>\n",
       "      <td>62</td>\n",
       "    </tr>\n",
       "    <tr>\n",
       "      <th>5</th>\n",
       "      <td>1</td>\n",
       "      <td>2023-09-07 06:00:00</td>\n",
       "      <td>19.10</td>\n",
       "      <td>2.89</td>\n",
       "      <td>58</td>\n",
       "    </tr>\n",
       "    <tr>\n",
       "      <th>6</th>\n",
       "      <td>1</td>\n",
       "      <td>2023-09-07 09:00:00</td>\n",
       "      <td>25.30</td>\n",
       "      <td>3.82</td>\n",
       "      <td>36</td>\n",
       "    </tr>\n",
       "    <tr>\n",
       "      <th>7</th>\n",
       "      <td>1</td>\n",
       "      <td>2023-09-07 12:00:00</td>\n",
       "      <td>29.00</td>\n",
       "      <td>4.53</td>\n",
       "      <td>27</td>\n",
       "    </tr>\n",
       "    <tr>\n",
       "      <th>8</th>\n",
       "      <td>1</td>\n",
       "      <td>2023-09-07 15:00:00</td>\n",
       "      <td>29.03</td>\n",
       "      <td>4.58</td>\n",
       "      <td>27</td>\n",
       "    </tr>\n",
       "    <tr>\n",
       "      <th>9</th>\n",
       "      <td>2</td>\n",
       "      <td>2023-09-06 15:00:00</td>\n",
       "      <td>30.22</td>\n",
       "      <td>0.77</td>\n",
       "      <td>51</td>\n",
       "    </tr>\n",
       "    <tr>\n",
       "      <th>10</th>\n",
       "      <td>2</td>\n",
       "      <td>2023-09-06 18:00:00</td>\n",
       "      <td>29.31</td>\n",
       "      <td>1.81</td>\n",
       "      <td>49</td>\n",
       "    </tr>\n",
       "    <tr>\n",
       "      <th>11</th>\n",
       "      <td>2</td>\n",
       "      <td>2023-09-06 21:00:00</td>\n",
       "      <td>26.23</td>\n",
       "      <td>1.85</td>\n",
       "      <td>55</td>\n",
       "    </tr>\n",
       "    <tr>\n",
       "      <th>12</th>\n",
       "      <td>2</td>\n",
       "      <td>2023-09-07 00:00:00</td>\n",
       "      <td>22.18</td>\n",
       "      <td>1.84</td>\n",
       "      <td>70</td>\n",
       "    </tr>\n",
       "    <tr>\n",
       "      <th>13</th>\n",
       "      <td>2</td>\n",
       "      <td>2023-09-07 03:00:00</td>\n",
       "      <td>21.28</td>\n",
       "      <td>1.85</td>\n",
       "      <td>74</td>\n",
       "    </tr>\n",
       "    <tr>\n",
       "      <th>14</th>\n",
       "      <td>2</td>\n",
       "      <td>2023-09-07 06:00:00</td>\n",
       "      <td>20.59</td>\n",
       "      <td>1.92</td>\n",
       "      <td>73</td>\n",
       "    </tr>\n",
       "    <tr>\n",
       "      <th>15</th>\n",
       "      <td>2</td>\n",
       "      <td>2023-09-07 09:00:00</td>\n",
       "      <td>24.88</td>\n",
       "      <td>3.19</td>\n",
       "      <td>53</td>\n",
       "    </tr>\n",
       "    <tr>\n",
       "      <th>16</th>\n",
       "      <td>2</td>\n",
       "      <td>2023-09-07 12:00:00</td>\n",
       "      <td>29.15</td>\n",
       "      <td>3.19</td>\n",
       "      <td>38</td>\n",
       "    </tr>\n",
       "    <tr>\n",
       "      <th>17</th>\n",
       "      <td>2</td>\n",
       "      <td>2023-09-07 15:00:00</td>\n",
       "      <td>29.57</td>\n",
       "      <td>3.11</td>\n",
       "      <td>31</td>\n",
       "    </tr>\n",
       "  </tbody>\n",
       "</table>\n",
       "</div>"
      ],
      "text/plain": [
       "    city_id        forecast_time  temperature  wind_speed  humidity\n",
       "0         1  2023-09-06 15:00:00        29.34        2.87        39\n",
       "1         1  2023-09-06 18:00:00        27.74        2.68        41\n",
       "2         1  2023-09-06 21:00:00        24.35        2.71        51\n",
       "3         1  2023-09-07 00:00:00        19.97        2.34        59\n",
       "4         1  2023-09-07 03:00:00        18.40        2.51        62\n",
       "5         1  2023-09-07 06:00:00        19.10        2.89        58\n",
       "6         1  2023-09-07 09:00:00        25.30        3.82        36\n",
       "7         1  2023-09-07 12:00:00        29.00        4.53        27\n",
       "8         1  2023-09-07 15:00:00        29.03        4.58        27\n",
       "9         2  2023-09-06 15:00:00        30.22        0.77        51\n",
       "10        2  2023-09-06 18:00:00        29.31        1.81        49\n",
       "11        2  2023-09-06 21:00:00        26.23        1.85        55\n",
       "12        2  2023-09-07 00:00:00        22.18        1.84        70\n",
       "13        2  2023-09-07 03:00:00        21.28        1.85        74\n",
       "14        2  2023-09-07 06:00:00        20.59        1.92        73\n",
       "15        2  2023-09-07 09:00:00        24.88        3.19        53\n",
       "16        2  2023-09-07 12:00:00        29.15        3.19        38\n",
       "17        2  2023-09-07 15:00:00        29.57        3.11        31"
      ]
     },
     "execution_count": 10,
     "metadata": {},
     "output_type": "execute_result"
    }
   ],
   "source": [
    "weather_dict = {'city_id':[],\n",
    "                'forecast_time': [],\n",
    "                'temperature': [],\n",
    "                'wind_speed': [],\n",
    "                'humidity': []}\n",
    "\n",
    "for index, row in cities_df.iterrows():\n",
    "    for weather in list_of_jsons[index]['list'][:9]:\n",
    "        weather_dict['city_id'].append(row['city_id'])\n",
    "        weather_dict['forecast_time'].append(weather['dt_txt'])\n",
    "        weather_dict['temperature'].append(weather['main']['temp'])\n",
    "        weather_dict['wind_speed'].append(weather['wind']['speed'])\n",
    "        weather_dict['humidity'].append(weather['main']['humidity'])\n",
    "        \n",
    "weather_df=pd.DataFrame(weather_dict)\n",
    "weather_df"
   ]
  },
  {
   "cell_type": "code",
   "execution_count": 11,
   "id": "c23653a8-3af8-425e-b509-b8e6b1a6e49c",
   "metadata": {},
   "outputs": [
    {
     "data": {
      "text/plain": [
       "18"
      ]
     },
     "execution_count": 11,
     "metadata": {},
     "output_type": "execute_result"
    }
   ],
   "source": [
    "weather_df.to_sql('weathers',if_exists='append',index=False,con=con)"
   ]
  },
  {
   "cell_type": "code",
   "execution_count": 13,
   "id": "27428206-0623-47fb-8354-6c90fe0c0626",
   "metadata": {},
   "outputs": [],
   "source": [
    "# weather_dict = {'city_id':[],\n",
    "#                 'forecast_time': [],\n",
    "#                 'temperature': [],\n",
    "#                 'wind_speed': [],\n",
    "#                 'humidity': []}\n",
    "\n",
    "# for index, row in cities_df.iterrows():\n",
    "    \n",
    "#     url = (f\"http://api.openweathermap.org/data/2.5/forecast?q={row['City']}&appid={API_key}&units=metric\")\n",
    "\n",
    "#     response = requests.get(url)\n",
    "#     my_json = response.json()\n",
    "#     for weather in my_json['list'][:9]:\n",
    "#         weather_dict['city_id'].append(row['city_id'])\n",
    "#         weather_dict['forecast_time'].append(weather['dt_txt'])\n",
    "#         weather_dict['temperature'].append(weather['main']['temp'])\n",
    "#         weather_dict['wind_speed'].append(weather['wind']['speed'])\n",
    "#         weather_dict['humidity'].append(weather['main']['humidity'])\n",
    "        \n",
    "# weather_df=pd.DataFrame(weather_dict)\n",
    "# weather_df"
   ]
  }
 ],
 "metadata": {
  "kernelspec": {
   "display_name": "Python 3 (ipykernel)",
   "language": "python",
   "name": "python3"
  },
  "language_info": {
   "codemirror_mode": {
    "name": "ipython",
    "version": 3
   },
   "file_extension": ".py",
   "mimetype": "text/x-python",
   "name": "python",
   "nbconvert_exporter": "python",
   "pygments_lexer": "ipython3",
   "version": "3.9.12"
  }
 },
 "nbformat": 4,
 "nbformat_minor": 5
}
